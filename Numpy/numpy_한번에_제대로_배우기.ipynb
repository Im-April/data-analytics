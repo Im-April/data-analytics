{
  "nbformat": 4,
  "nbformat_minor": 0,
  "metadata": {
    "colab": {
      "provenance": []
    },
    "kernelspec": {
      "name": "python3",
      "display_name": "Python 3"
    },
    "language_info": {
      "name": "python"
    }
  },
  "cells": [
    {
      "cell_type": "markdown",
      "source": [
        "# Numpy 특징\n",
        "- 고성능 과학 계산용 패키지로 다양한 N차원 배열 객체\n",
        "- 범용적 데이터 처리에 사용 가능한 다차원 컨테이너\n",
        "- 정교한 브로드캐스팅 기능\n",
        "- 파이썬의 자료형 list와 비슷하지만 더 빠르고 메모리가 효율적\n",
        "- 반복문 없이 데이터 배열에 대한 처리를 지원하여 빠르고 편함\n",
        "- 데이터 과학 동구에 대한 생태계의 핵심을 이루고 있음"
      ],
      "metadata": {
        "id": "DP51IRMHisBY"
      }
    },
    {
      "cell_type": "code",
      "source": [
        "import numpy as np\n",
        "np.__version__"
      ],
      "metadata": {
        "colab": {
          "base_uri": "https://localhost:8080/",
          "height": 35
        },
        "id": "q78P3LrTjDWX",
        "outputId": "41460b05-a9dc-497f-eb81-3a662a5c854b"
      },
      "execution_count": 1,
      "outputs": [
        {
          "output_type": "execute_result",
          "data": {
            "text/plain": [
              "'2.0.2'"
            ],
            "application/vnd.google.colaboratory.intrinsic+json": {
              "type": "string"
            }
          },
          "metadata": {},
          "execution_count": 1
        }
      ]
    },
    {
      "cell_type": "code",
      "source": [
        "# 배열 만들기\n",
        "a1 = np.array([1,2,3,4,5])\n",
        "print(a1)\n",
        "print(type(a1))\n",
        "print(a1.shape)\n",
        "print(a1[0],a1[1],a1[2],a1[3],a1[4])\n",
        "a1[0] = 4\n",
        "a1[1] = 5\n",
        "a1[2] = 6\n",
        "print(a1)"
      ],
      "metadata": {
        "colab": {
          "base_uri": "https://localhost:8080/"
        },
        "id": "nq-slSagjfUT",
        "outputId": "2a4378ed-36ad-46f0-c281-c68c0b320657"
      },
      "execution_count": 2,
      "outputs": [
        {
          "output_type": "stream",
          "name": "stdout",
          "text": [
            "[1 2 3 4 5]\n",
            "<class 'numpy.ndarray'>\n",
            "(5,)\n",
            "1 2 3 4 5\n",
            "[4 5 6 4 5]\n"
          ]
        }
      ]
    },
    {
      "cell_type": "code",
      "source": [
        "a2 = np.array([[1,2,3],[4,5,6],[7,8,9]])\n",
        "print(a2)\n",
        "print(a2.shape)\n",
        "print(a2[0,0],a2[1,1],a2[2,2])"
      ],
      "metadata": {
        "colab": {
          "base_uri": "https://localhost:8080/"
        },
        "id": "TcqbM2_5k9Xj",
        "outputId": "3066c013-0091-4d75-a393-59315f96e670"
      },
      "execution_count": 3,
      "outputs": [
        {
          "output_type": "stream",
          "name": "stdout",
          "text": [
            "[[1 2 3]\n",
            " [4 5 6]\n",
            " [7 8 9]]\n",
            "(3, 3)\n",
            "1 5 9\n"
          ]
        }
      ]
    },
    {
      "cell_type": "code",
      "source": [
        "a3 = np.array([[[1,2,3],[4,5,6],[7,8,9]],\n",
        "               [[1,2,3],[4,5,6],[7,8,9]],\n",
        "               [[1,2,3],[4,5,6],[7,8,9]]])\n",
        "\n",
        "print(a3)\n",
        "print(a3.shape)"
      ],
      "metadata": {
        "colab": {
          "base_uri": "https://localhost:8080/"
        },
        "id": "ty2E1IQrl0om",
        "outputId": "14be348d-f53d-4200-82bc-b6a58b985c20"
      },
      "execution_count": 4,
      "outputs": [
        {
          "output_type": "stream",
          "name": "stdout",
          "text": [
            "[[[1 2 3]\n",
            "  [4 5 6]\n",
            "  [7 8 9]]\n",
            "\n",
            " [[1 2 3]\n",
            "  [4 5 6]\n",
            "  [7 8 9]]\n",
            "\n",
            " [[1 2 3]\n",
            "  [4 5 6]\n",
            "  [7 8 9]]]\n",
            "(3, 3, 3)\n"
          ]
        }
      ]
    },
    {
      "cell_type": "markdown",
      "source": [
        "## 배열 생성 및 초기화"
      ],
      "metadata": {
        "id": "TAIEIuQPmwTD"
      }
    },
    {
      "cell_type": "code",
      "source": [
        "# 모든 요소를 0으로 초기화\n",
        "np.zeros(10)"
      ],
      "metadata": {
        "colab": {
          "base_uri": "https://localhost:8080/"
        },
        "id": "iO7tXR6VmyWU",
        "outputId": "fa8cdc49-4e5d-4c8b-ac4c-fa7331e14ab8"
      },
      "execution_count": 5,
      "outputs": [
        {
          "output_type": "execute_result",
          "data": {
            "text/plain": [
              "array([0., 0., 0., 0., 0., 0., 0., 0., 0., 0.])"
            ]
          },
          "metadata": {},
          "execution_count": 5
        }
      ]
    },
    {
      "cell_type": "code",
      "source": [
        "# 모든 요소를 1으로 초기화\n",
        "np.ones(3)\n",
        "np.ones((3,3))"
      ],
      "metadata": {
        "colab": {
          "base_uri": "https://localhost:8080/"
        },
        "id": "2TOaIYeBm6Dc",
        "outputId": "a6f49519-e17b-44db-ee32-61426509d086"
      },
      "execution_count": 6,
      "outputs": [
        {
          "output_type": "execute_result",
          "data": {
            "text/plain": [
              "array([[1., 1., 1.],\n",
              "       [1., 1., 1.],\n",
              "       [1., 1., 1.]])"
            ]
          },
          "metadata": {},
          "execution_count": 6
        }
      ]
    },
    {
      "cell_type": "code",
      "source": [
        "# 모든 요소를 지정한 값으로 초기화\n",
        "\n",
        "np.full((3,3),1.23)"
      ],
      "metadata": {
        "colab": {
          "base_uri": "https://localhost:8080/"
        },
        "id": "sDEQQK2knDqV",
        "outputId": "ffc55970-578c-40f6-ca04-ae0e34228a0d"
      },
      "execution_count": 7,
      "outputs": [
        {
          "output_type": "execute_result",
          "data": {
            "text/plain": [
              "array([[1.23, 1.23, 1.23],\n",
              "       [1.23, 1.23, 1.23],\n",
              "       [1.23, 1.23, 1.23]])"
            ]
          },
          "metadata": {},
          "execution_count": 7
        }
      ]
    },
    {
      "cell_type": "code",
      "source": [
        "# 단위 행렬 생성\n",
        "# 주대각선의 원소가 모두 1이고 나머지 원소는 모두 0인 정사각 행렬\n",
        "\n",
        "np.eye(3)"
      ],
      "metadata": {
        "colab": {
          "base_uri": "https://localhost:8080/"
        },
        "id": "zIVKy-VSnMd2",
        "outputId": "c21de271-6c96-42d7-cd28-a4e19e2b20aa"
      },
      "execution_count": 8,
      "outputs": [
        {
          "output_type": "execute_result",
          "data": {
            "text/plain": [
              "array([[1., 0., 0.],\n",
              "       [0., 1., 0.],\n",
              "       [0., 0., 1.]])"
            ]
          },
          "metadata": {},
          "execution_count": 8
        }
      ]
    },
    {
      "cell_type": "code",
      "source": [
        "# 삼각행렬\n",
        "\n",
        "np.tri(3)"
      ],
      "metadata": {
        "colab": {
          "base_uri": "https://localhost:8080/"
        },
        "id": "1XlBG1eznV4x",
        "outputId": "88f7fe82-1206-44f7-a3c9-bfe8ba8f09e9"
      },
      "execution_count": 9,
      "outputs": [
        {
          "output_type": "execute_result",
          "data": {
            "text/plain": [
              "array([[1., 0., 0.],\n",
              "       [1., 1., 0.],\n",
              "       [1., 1., 1.]])"
            ]
          },
          "metadata": {},
          "execution_count": 9
        }
      ]
    },
    {
      "cell_type": "code",
      "source": [
        "# 초기회되지 않은 배열 생성\n",
        "# 초기화가 없어서 배열 생성비용 저렴\n",
        "# 초기화되지 않아서 기존 메모리 위치에 존재하는 값\n",
        "\n",
        "np.empty(10)"
      ],
      "metadata": {
        "colab": {
          "base_uri": "https://localhost:8080/"
        },
        "id": "MEicu3rVnbOx",
        "outputId": "23c8d4bb-ad61-422e-fd41-b3369ab07dca"
      },
      "execution_count": 10,
      "outputs": [
        {
          "output_type": "execute_result",
          "data": {
            "text/plain": [
              "array([0., 0., 0., 0., 0., 0., 0., 0., 0., 0.])"
            ]
          },
          "metadata": {},
          "execution_count": 10
        }
      ]
    },
    {
      "cell_type": "code",
      "source": [
        "# 지정된 배열과 shape가 같은 행렬 생성\n",
        "print(a1)\n",
        "np.zeros_like(a1)"
      ],
      "metadata": {
        "colab": {
          "base_uri": "https://localhost:8080/"
        },
        "id": "iais5-Z6nmiN",
        "outputId": "aeac1826-74c7-48f2-b554-c2a950dfa26a"
      },
      "execution_count": 11,
      "outputs": [
        {
          "output_type": "stream",
          "name": "stdout",
          "text": [
            "[4 5 6 4 5]\n"
          ]
        },
        {
          "output_type": "execute_result",
          "data": {
            "text/plain": [
              "array([0, 0, 0, 0, 0])"
            ]
          },
          "metadata": {},
          "execution_count": 11
        }
      ]
    },
    {
      "cell_type": "code",
      "source": [
        "print(a2)\n",
        "np.ones_like(a2)"
      ],
      "metadata": {
        "colab": {
          "base_uri": "https://localhost:8080/"
        },
        "id": "p3r2Dx-Kn7rH",
        "outputId": "6b406c28-d05f-48df-e520-20899aeb16be"
      },
      "execution_count": 12,
      "outputs": [
        {
          "output_type": "stream",
          "name": "stdout",
          "text": [
            "[[1 2 3]\n",
            " [4 5 6]\n",
            " [7 8 9]]\n"
          ]
        },
        {
          "output_type": "execute_result",
          "data": {
            "text/plain": [
              "array([[1, 1, 1],\n",
              "       [1, 1, 1],\n",
              "       [1, 1, 1]])"
            ]
          },
          "metadata": {},
          "execution_count": 12
        }
      ]
    },
    {
      "cell_type": "code",
      "source": [
        "print(a3)\n",
        "np.full_like(a3,10)"
      ],
      "metadata": {
        "colab": {
          "base_uri": "https://localhost:8080/"
        },
        "id": "LboNPw7qn_fQ",
        "outputId": "88e8bf62-3366-416d-c3e4-43111ff9384e"
      },
      "execution_count": 13,
      "outputs": [
        {
          "output_type": "stream",
          "name": "stdout",
          "text": [
            "[[[1 2 3]\n",
            "  [4 5 6]\n",
            "  [7 8 9]]\n",
            "\n",
            " [[1 2 3]\n",
            "  [4 5 6]\n",
            "  [7 8 9]]\n",
            "\n",
            " [[1 2 3]\n",
            "  [4 5 6]\n",
            "  [7 8 9]]]\n"
          ]
        },
        {
          "output_type": "execute_result",
          "data": {
            "text/plain": [
              "array([[[10, 10, 10],\n",
              "        [10, 10, 10],\n",
              "        [10, 10, 10]],\n",
              "\n",
              "       [[10, 10, 10],\n",
              "        [10, 10, 10],\n",
              "        [10, 10, 10]],\n",
              "\n",
              "       [[10, 10, 10],\n",
              "        [10, 10, 10],\n",
              "        [10, 10, 10]]])"
            ]
          },
          "metadata": {},
          "execution_count": 13
        }
      ]
    },
    {
      "cell_type": "markdown",
      "source": [
        "## 생성한 값으로 배열 생성\n"
      ],
      "metadata": {
        "id": "yXjAk1xooHno"
      }
    },
    {
      "cell_type": "code",
      "source": [
        "# 정수 범위로 배열 생성\n",
        "\n",
        "np.arange(0,30,2)"
      ],
      "metadata": {
        "colab": {
          "base_uri": "https://localhost:8080/"
        },
        "id": "RFLxKiYDoJmR",
        "outputId": "b38ad512-cb89-44f4-dc88-87306a3e5ba2"
      },
      "execution_count": 14,
      "outputs": [
        {
          "output_type": "execute_result",
          "data": {
            "text/plain": [
              "array([ 0,  2,  4,  6,  8, 10, 12, 14, 16, 18, 20, 22, 24, 26, 28])"
            ]
          },
          "metadata": {},
          "execution_count": 14
        }
      ]
    },
    {
      "cell_type": "code",
      "source": [
        "# 범위 내에서 균등 간격의 배열 생성\n",
        "\n",
        "np.linspace(0,1,5)"
      ],
      "metadata": {
        "colab": {
          "base_uri": "https://localhost:8080/"
        },
        "id": "FjvWm3U_oT2w",
        "outputId": "a24a07ba-ad90-4bda-ac4d-b035d0c44fa2"
      },
      "execution_count": 15,
      "outputs": [
        {
          "output_type": "execute_result",
          "data": {
            "text/plain": [
              "array([0.  , 0.25, 0.5 , 0.75, 1.  ])"
            ]
          },
          "metadata": {},
          "execution_count": 15
        }
      ]
    },
    {
      "cell_type": "code",
      "source": [
        "# 범위 내에서 균등한 간격으로 로그 스케일로 배열 생성\n",
        "\n",
        "np.logspace(0.1,1,20)"
      ],
      "metadata": {
        "colab": {
          "base_uri": "https://localhost:8080/"
        },
        "id": "zukw0BpJocsT",
        "outputId": "fc835e11-078c-4cf2-e487-1ac368c54715"
      },
      "execution_count": 16,
      "outputs": [
        {
          "output_type": "execute_result",
          "data": {
            "text/plain": [
              "array([ 1.25892541,  1.40400425,  1.565802  ,  1.74624535,  1.94748304,\n",
              "        2.1719114 ,  2.42220294,  2.70133812,  3.0126409 ,  3.35981829,\n",
              "        3.74700446,  4.17881006,  4.66037703,  5.19743987,  5.79639395,\n",
              "        6.46437163,  7.2093272 ,  8.04013161,  8.9666781 , 10.        ])"
            ]
          },
          "metadata": {},
          "execution_count": 16
        }
      ]
    },
    {
      "cell_type": "markdown",
      "source": [
        "## 랜덤값으로 배열 생성"
      ],
      "metadata": {
        "id": "VephJoHpovlm"
      }
    },
    {
      "cell_type": "code",
      "source": [
        "# 랜덤한 수의 배열 생성\n",
        "np.random.random((3,3))"
      ],
      "metadata": {
        "colab": {
          "base_uri": "https://localhost:8080/"
        },
        "id": "G8lqd8D2ojwp",
        "outputId": "0a571716-d2ec-48a8-a079-de1afe59222b"
      },
      "execution_count": 17,
      "outputs": [
        {
          "output_type": "execute_result",
          "data": {
            "text/plain": [
              "array([[0.03240632, 0.89549305, 0.05314407],\n",
              "       [0.63872411, 0.79493168, 0.11363488],\n",
              "       [0.5649587 , 0.46494292, 0.95709132]])"
            ]
          },
          "metadata": {},
          "execution_count": 17
        }
      ]
    },
    {
      "cell_type": "code",
      "source": [
        "# 일정 구간의 랜덤 정수의 배열 생성\n",
        "\n",
        "np.random.randint(0,10,(3,3))"
      ],
      "metadata": {
        "colab": {
          "base_uri": "https://localhost:8080/"
        },
        "id": "BAJfmMlWpMfA",
        "outputId": "098c70df-93b4-4d2b-cce5-5342e9a5298f"
      },
      "execution_count": 18,
      "outputs": [
        {
          "output_type": "execute_result",
          "data": {
            "text/plain": [
              "array([[5, 4, 3],\n",
              "       [7, 9, 2],\n",
              "       [1, 4, 5]])"
            ]
          },
          "metadata": {},
          "execution_count": 18
        }
      ]
    },
    {
      "cell_type": "code",
      "source": [
        "# 정규분포를 고려한 랜덤한 수의 배열 생성\n",
        "# 평균 = 0, 표준편차=1, 3x3배열\n",
        "\n",
        "np.random.normal(0,1,(3,3))"
      ],
      "metadata": {
        "colab": {
          "base_uri": "https://localhost:8080/"
        },
        "id": "nxtk7jGbpWAt",
        "outputId": "cb0cba22-1e5b-48ff-aef3-2f8ffbad2963"
      },
      "execution_count": 19,
      "outputs": [
        {
          "output_type": "execute_result",
          "data": {
            "text/plain": [
              "array([[-0.9254545 ,  0.9956688 , -1.12618168],\n",
              "       [-0.71716231, -0.16369685, -0.34289888],\n",
              "       [-1.45679038, -1.89799586, -0.68874358]])"
            ]
          },
          "metadata": {},
          "execution_count": 19
        }
      ]
    },
    {
      "cell_type": "code",
      "source": [
        "# 균등분포를 고려한 랜덤한 수의 배열 생성\n",
        "\n",
        "np.random.rand(3,3)"
      ],
      "metadata": {
        "colab": {
          "base_uri": "https://localhost:8080/"
        },
        "id": "rdkDoUahpk2I",
        "outputId": "b544fb0c-6e77-490e-e36c-7e7cdd4a574a"
      },
      "execution_count": 20,
      "outputs": [
        {
          "output_type": "execute_result",
          "data": {
            "text/plain": [
              "array([[0.57187048, 0.6253752 , 0.18802948],\n",
              "       [0.54796875, 0.05755283, 0.79717389],\n",
              "       [0.36209413, 0.49304942, 0.2823894 ]])"
            ]
          },
          "metadata": {},
          "execution_count": 20
        }
      ]
    },
    {
      "cell_type": "code",
      "source": [
        "# 표준 정규 분포를 고려한 랜덤한 수의 배열 생성\n",
        "\n",
        "np.random.randn(3,3)"
      ],
      "metadata": {
        "colab": {
          "base_uri": "https://localhost:8080/"
        },
        "id": "hIA4l6dbpthw",
        "outputId": "4bcc159a-c718-4aeb-bd88-72c4fbb08724"
      },
      "execution_count": 21,
      "outputs": [
        {
          "output_type": "execute_result",
          "data": {
            "text/plain": [
              "array([[-1.16472824,  0.51983273,  1.6994309 ],\n",
              "       [ 1.25523613,  0.46408203,  0.13019552],\n",
              "       [ 0.47319556, -1.15793214, -0.89296878]])"
            ]
          },
          "metadata": {},
          "execution_count": 21
        }
      ]
    },
    {
      "cell_type": "markdown",
      "source": [
        "## 표준 데이터 타입"
      ],
      "metadata": {
        "id": "M36_Vgqur0Xi"
      }
    },
    {
      "cell_type": "code",
      "source": [
        "np.zeros(20, dtype=int)"
      ],
      "metadata": {
        "colab": {
          "base_uri": "https://localhost:8080/"
        },
        "id": "8E1vX35Tp2wU",
        "outputId": "de5ae8b6-d577-4d4b-b9ef-719e1832a6bb"
      },
      "execution_count": 22,
      "outputs": [
        {
          "output_type": "execute_result",
          "data": {
            "text/plain": [
              "array([0, 0, 0, 0, 0, 0, 0, 0, 0, 0, 0, 0, 0, 0, 0, 0, 0, 0, 0, 0])"
            ]
          },
          "metadata": {},
          "execution_count": 22
        }
      ]
    },
    {
      "cell_type": "code",
      "source": [
        "np.ones((3,3), dtype=bool)"
      ],
      "metadata": {
        "colab": {
          "base_uri": "https://localhost:8080/"
        },
        "id": "ArcSY7XdrfnU",
        "outputId": "fc5379e4-50f7-4fbc-d052-7c2b7d274e11"
      },
      "execution_count": 23,
      "outputs": [
        {
          "output_type": "execute_result",
          "data": {
            "text/plain": [
              "array([[ True,  True,  True],\n",
              "       [ True,  True,  True],\n",
              "       [ True,  True,  True]])"
            ]
          },
          "metadata": {},
          "execution_count": 23
        }
      ]
    },
    {
      "cell_type": "code",
      "source": [
        "np.full((3,3),1.0,dtype=float)"
      ],
      "metadata": {
        "colab": {
          "base_uri": "https://localhost:8080/"
        },
        "id": "E6duaR88rn_S",
        "outputId": "3818ea08-6ba3-4aaf-9d7e-25f36f0799d9"
      },
      "execution_count": 24,
      "outputs": [
        {
          "output_type": "execute_result",
          "data": {
            "text/plain": [
              "array([[1., 1., 1.],\n",
              "       [1., 1., 1.],\n",
              "       [1., 1., 1.]])"
            ]
          },
          "metadata": {},
          "execution_count": 24
        }
      ]
    },
    {
      "cell_type": "markdown",
      "source": [
        "## 날짜/시간 배열 생성"
      ],
      "metadata": {
        "id": "xllVwEslrx9o"
      }
    },
    {
      "cell_type": "code",
      "source": [
        "date = np.array('2020-01-01',dtype=np.datetime64)\n",
        "date"
      ],
      "metadata": {
        "colab": {
          "base_uri": "https://localhost:8080/"
        },
        "id": "NEwwyYgArwV3",
        "outputId": "8a14492c-500e-44de-a41a-cc30f8fdf544"
      },
      "execution_count": 25,
      "outputs": [
        {
          "output_type": "execute_result",
          "data": {
            "text/plain": [
              "array('2020-01-01', dtype='datetime64[D]')"
            ]
          },
          "metadata": {},
          "execution_count": 25
        }
      ]
    },
    {
      "cell_type": "code",
      "source": [
        "date + np.arange(12)"
      ],
      "metadata": {
        "colab": {
          "base_uri": "https://localhost:8080/"
        },
        "id": "UAMUa8qZsMT5",
        "outputId": "ad1bc16f-c7d8-4162-a2d1-b835c9ce103c"
      },
      "execution_count": 26,
      "outputs": [
        {
          "output_type": "execute_result",
          "data": {
            "text/plain": [
              "array(['2020-01-01', '2020-01-02', '2020-01-03', '2020-01-04',\n",
              "       '2020-01-05', '2020-01-06', '2020-01-07', '2020-01-08',\n",
              "       '2020-01-09', '2020-01-10', '2020-01-11', '2020-01-12'],\n",
              "      dtype='datetime64[D]')"
            ]
          },
          "metadata": {},
          "execution_count": 26
        }
      ]
    },
    {
      "cell_type": "code",
      "source": [
        "datetime = np.datetime64('2020-06-01 12:00')\n",
        "datetime"
      ],
      "metadata": {
        "colab": {
          "base_uri": "https://localhost:8080/"
        },
        "id": "5JRTsYPDsYy6",
        "outputId": "647a1aca-c35a-4fb3-afaf-8acdc7775426"
      },
      "execution_count": 27,
      "outputs": [
        {
          "output_type": "execute_result",
          "data": {
            "text/plain": [
              "np.datetime64('2020-06-01T12:00')"
            ]
          },
          "metadata": {},
          "execution_count": 27
        }
      ]
    },
    {
      "cell_type": "code",
      "source": [
        "datetime = np.datetime64('2020-06-01T12:00:12.34','ns')\n",
        "datetime"
      ],
      "metadata": {
        "colab": {
          "base_uri": "https://localhost:8080/"
        },
        "id": "vdZlP-8Yso3f",
        "outputId": "405ed536-8e99-4884-bc52-04f035038594"
      },
      "execution_count": 28,
      "outputs": [
        {
          "output_type": "execute_result",
          "data": {
            "text/plain": [
              "np.datetime64('2020-06-01T12:00:12.340000000')"
            ]
          },
          "metadata": {},
          "execution_count": 28
        }
      ]
    },
    {
      "cell_type": "markdown",
      "source": [
        "# 배열 조회"
      ],
      "metadata": {
        "id": "bPuACR9Us2or"
      }
    },
    {
      "cell_type": "markdown",
      "source": [
        "## 배열 속성 정보"
      ],
      "metadata": {
        "id": "BaSUG5D7s4Xj"
      }
    },
    {
      "cell_type": "code",
      "source": [
        "def array_info(array):\n",
        "    # 배열 자체를 출력\n",
        "    print(array)\n",
        "\n",
        "    # 배열의 차원 수(ndim): 1차원, 2차원 등\n",
        "    print(f'ndim : {array.ndim}')\n",
        "\n",
        "    # 배열의 형태(shape): 각 차원의 크기를 튜플로 표시\n",
        "    print(f'shape : {array.shape}')\n",
        "\n",
        "    # 배열의 데이터 타입(dtype): 예) int32, float64 등\n",
        "    print(f'dtype : {array.dtype}')\n",
        "\n",
        "    # 배열에 포함된 전체 원소 개수(size)\n",
        "    print(f'size : {array.size}')\n",
        "\n",
        "    # 각 원소의 바이트 크기(itemsize)\n",
        "    print(f'itemsize : {array.itemsize}')\n",
        "\n",
        "    # 배열 전체가 차지하는 메모리 바이트 수(nbytes)\n",
        "    print(f'nbytes : {array.nbytes}')\n",
        "\n",
        "    # strides: 다음 원소로 이동하기 위해 건너뛰는 바이트 수\n",
        "    # (즉, 메모리 상에서의 배열 구조를 보여줌)\n",
        "    print(f'strides : {array.strides}')\n"
      ],
      "metadata": {
        "id": "S0ly7Yy2sz-i"
      },
      "execution_count": 29,
      "outputs": []
    },
    {
      "cell_type": "code",
      "source": [
        "array_info(a1)"
      ],
      "metadata": {
        "colab": {
          "base_uri": "https://localhost:8080/"
        },
        "id": "_y5soJbRtq5K",
        "outputId": "dbf3aed9-ca89-475e-9d01-c149ed025028"
      },
      "execution_count": 30,
      "outputs": [
        {
          "output_type": "stream",
          "name": "stdout",
          "text": [
            "[4 5 6 4 5]\n",
            "ndim : 1\n",
            "shape : (5,)\n",
            "dtype : int64\n",
            "size : 5\n",
            "itemsize : 8\n",
            "nbytes : 40\n",
            "strides : (8,)\n"
          ]
        }
      ]
    },
    {
      "cell_type": "code",
      "source": [
        "array_info(a2)"
      ],
      "metadata": {
        "colab": {
          "base_uri": "https://localhost:8080/"
        },
        "id": "5eyKYZT6tumE",
        "outputId": "d885dd0a-ce70-4fea-c541-f3b3c3040f11"
      },
      "execution_count": 31,
      "outputs": [
        {
          "output_type": "stream",
          "name": "stdout",
          "text": [
            "[[1 2 3]\n",
            " [4 5 6]\n",
            " [7 8 9]]\n",
            "ndim : 2\n",
            "shape : (3, 3)\n",
            "dtype : int64\n",
            "size : 9\n",
            "itemsize : 8\n",
            "nbytes : 72\n",
            "strides : (24, 8)\n"
          ]
        }
      ]
    },
    {
      "cell_type": "code",
      "source": [
        "array_info(a3)"
      ],
      "metadata": {
        "colab": {
          "base_uri": "https://localhost:8080/"
        },
        "id": "eTtyP3omuD0c",
        "outputId": "9a4da7f2-de6c-404e-a626-9931d1410b98"
      },
      "execution_count": 32,
      "outputs": [
        {
          "output_type": "stream",
          "name": "stdout",
          "text": [
            "[[[1 2 3]\n",
            "  [4 5 6]\n",
            "  [7 8 9]]\n",
            "\n",
            " [[1 2 3]\n",
            "  [4 5 6]\n",
            "  [7 8 9]]\n",
            "\n",
            " [[1 2 3]\n",
            "  [4 5 6]\n",
            "  [7 8 9]]]\n",
            "ndim : 3\n",
            "shape : (3, 3, 3)\n",
            "dtype : int64\n",
            "size : 27\n",
            "itemsize : 8\n",
            "nbytes : 216\n",
            "strides : (72, 24, 8)\n"
          ]
        }
      ]
    },
    {
      "cell_type": "markdown",
      "source": [
        "## 인덱싱"
      ],
      "metadata": {
        "id": "c2XmrOIquflv"
      }
    },
    {
      "cell_type": "code",
      "source": [
        "print(a1)\n",
        "print(a1[0])\n",
        "print(a1[2])\n",
        "print(a1[-1])\n",
        "print(a1[-2])"
      ],
      "metadata": {
        "colab": {
          "base_uri": "https://localhost:8080/"
        },
        "id": "Iue8AK4LuhHX",
        "outputId": "08cc454d-2309-4eed-b860-085d74fcfd2a"
      },
      "execution_count": 33,
      "outputs": [
        {
          "output_type": "stream",
          "name": "stdout",
          "text": [
            "[4 5 6 4 5]\n",
            "4\n",
            "6\n",
            "5\n",
            "4\n"
          ]
        }
      ]
    },
    {
      "cell_type": "code",
      "source": [
        "print(a2)\n",
        "print(a2[0,0])\n",
        "print(a2[0,2])\n",
        "print(a2[1,1])\n",
        "print(a2[2,-1])"
      ],
      "metadata": {
        "colab": {
          "base_uri": "https://localhost:8080/"
        },
        "id": "k4HjXMfjuqFf",
        "outputId": "7444b912-1bb7-4d36-8568-b4c95ea8cac0"
      },
      "execution_count": 34,
      "outputs": [
        {
          "output_type": "stream",
          "name": "stdout",
          "text": [
            "[[1 2 3]\n",
            " [4 5 6]\n",
            " [7 8 9]]\n",
            "1\n",
            "3\n",
            "5\n",
            "9\n"
          ]
        }
      ]
    },
    {
      "cell_type": "code",
      "source": [
        "print(a3)\n",
        "print(a3[0,0,0])\n",
        "print(a3[1,1,1])\n",
        "print(a3[2,2,2])\n",
        "print(a3[2,-1,-1])"
      ],
      "metadata": {
        "colab": {
          "base_uri": "https://localhost:8080/"
        },
        "id": "ncp_e-qtu6Ac",
        "outputId": "f4135215-a1a3-4557-907c-72436e7a4adf"
      },
      "execution_count": 35,
      "outputs": [
        {
          "output_type": "stream",
          "name": "stdout",
          "text": [
            "[[[1 2 3]\n",
            "  [4 5 6]\n",
            "  [7 8 9]]\n",
            "\n",
            " [[1 2 3]\n",
            "  [4 5 6]\n",
            "  [7 8 9]]\n",
            "\n",
            " [[1 2 3]\n",
            "  [4 5 6]\n",
            "  [7 8 9]]]\n",
            "1\n",
            "5\n",
            "9\n",
            "9\n"
          ]
        }
      ]
    },
    {
      "cell_type": "markdown",
      "source": [
        "## 슬라이싱\n",
        "- 슬라이싱구문 : a[start:stop:step]\n",
        "- 기본값 : start=0,stop=ndim,step=1"
      ],
      "metadata": {
        "id": "NJ0PrxwyvTi_"
      }
    },
    {
      "cell_type": "code",
      "source": [
        "print(a1)\n",
        "print(a1[0:2])\n",
        "print(a1[0:])\n",
        "print(a1[:1])\n",
        "print(a1[::2])\n",
        "print(a1[::-1])"
      ],
      "metadata": {
        "colab": {
          "base_uri": "https://localhost:8080/"
        },
        "id": "ooSyHd2gvJ-P",
        "outputId": "b85c5e43-0c8a-4258-e3b9-c360b3b211c1"
      },
      "execution_count": 36,
      "outputs": [
        {
          "output_type": "stream",
          "name": "stdout",
          "text": [
            "[4 5 6 4 5]\n",
            "[4 5]\n",
            "[4 5 6 4 5]\n",
            "[4]\n",
            "[4 6 5]\n",
            "[5 4 6 5 4]\n"
          ]
        }
      ]
    },
    {
      "cell_type": "code",
      "source": [
        "print(a2)\n",
        "print('-'*10)\n",
        "\n",
        "print(a2[1])\n",
        "print('-'*10)\n",
        "\n",
        "print(a2[1,:])\n",
        "print('-'*10)\n",
        "\n",
        "print(a2[:2, :2])\n",
        "print('-'*10)\n",
        "\n",
        "print(a2[1: , ::-1])\n",
        "print('-'*10)\n",
        "\n",
        "print(a2[::-1, ::-1])"
      ],
      "metadata": {
        "colab": {
          "base_uri": "https://localhost:8080/"
        },
        "id": "hD77R6qJwI2i",
        "outputId": "d675d6fd-387b-4354-bb45-c7615ae1659d"
      },
      "execution_count": 37,
      "outputs": [
        {
          "output_type": "stream",
          "name": "stdout",
          "text": [
            "[[1 2 3]\n",
            " [4 5 6]\n",
            " [7 8 9]]\n",
            "----------\n",
            "[4 5 6]\n",
            "----------\n",
            "[4 5 6]\n",
            "----------\n",
            "[[1 2]\n",
            " [4 5]]\n",
            "----------\n",
            "[[6 5 4]\n",
            " [9 8 7]]\n",
            "----------\n",
            "[[9 8 7]\n",
            " [6 5 4]\n",
            " [3 2 1]]\n"
          ]
        }
      ]
    },
    {
      "cell_type": "markdown",
      "source": [
        "## 불리언 인덱싱\n",
        "- 배열의 각 요소의 선택 여부를 불리언으로 지정\n",
        "- True값인 인덱스의 값만 조회"
      ],
      "metadata": {
        "id": "BcMedq_cyYzk"
      }
    },
    {
      "cell_type": "code",
      "source": [
        "print(a1)\n",
        "bi = [False, True, True, False, True]\n",
        "print(a1[bi])\n",
        "\n",
        "bi = [True, False, True, True, False]\n",
        "print(a1[bi])"
      ],
      "metadata": {
        "colab": {
          "base_uri": "https://localhost:8080/"
        },
        "id": "vDDFwUr-yfkK",
        "outputId": "a8177a58-c981-4eb0-e0bd-c452650432e3"
      },
      "execution_count": 38,
      "outputs": [
        {
          "output_type": "stream",
          "name": "stdout",
          "text": [
            "[4 5 6 4 5]\n",
            "[5 6 5]\n",
            "[4 6 4]\n"
          ]
        }
      ]
    },
    {
      "cell_type": "code",
      "source": [
        "print(a2)\n",
        "bi = np.random.randint(0,2,(3,3),dtype=bool)\n",
        "print(bi)\n",
        "print(a2[bi])"
      ],
      "metadata": {
        "colab": {
          "base_uri": "https://localhost:8080/"
        },
        "id": "OjygGHJWzTfK",
        "outputId": "a3c4007f-4475-471d-a8e6-ab9186d11484"
      },
      "execution_count": 39,
      "outputs": [
        {
          "output_type": "stream",
          "name": "stdout",
          "text": [
            "[[1 2 3]\n",
            " [4 5 6]\n",
            " [7 8 9]]\n",
            "[[ True False  True]\n",
            " [False  True  True]\n",
            " [False False False]]\n",
            "[1 3 5 6]\n"
          ]
        }
      ]
    },
    {
      "cell_type": "markdown",
      "source": [
        "# 펜시 인덱싱"
      ],
      "metadata": {
        "id": "ulo3BGn6zwFl"
      }
    },
    {
      "cell_type": "code",
      "source": [
        "print(a1)\n",
        "print('-'*10)\n",
        "\n",
        "print(a1[0],a1[2])\n",
        "print('-'*10)\n",
        "\n",
        "ind = [0,2]\n",
        "print(a1[ind])\n",
        "print('-'*10)\n",
        "\n",
        "ind = np.array([[0,1],[2,0]])\n",
        "print(a1[ind])"
      ],
      "metadata": {
        "colab": {
          "base_uri": "https://localhost:8080/"
        },
        "id": "-Nsnf9pqzxmn",
        "outputId": "83d47de1-3494-4d75-de94-a897aada5df2"
      },
      "execution_count": 40,
      "outputs": [
        {
          "output_type": "stream",
          "name": "stdout",
          "text": [
            "[4 5 6 4 5]\n",
            "----------\n",
            "4 6\n",
            "----------\n",
            "[4 6]\n",
            "----------\n",
            "[[4 5]\n",
            " [6 4]]\n"
          ]
        }
      ]
    },
    {
      "cell_type": "code",
      "source": [
        "print(a2)\n",
        "print('-'*10)\n",
        "\n",
        "row = np.array([0,2])\n",
        "col = np.array([1,2])\n",
        "print(a2[row,col])\n",
        "print('-'*10)\n",
        "\n",
        "print(a2[row, :])\n",
        "print('-'*10)\n",
        "\n",
        "print(a2[:,col])\n",
        "print('-'*10)\n",
        "\n",
        "print(a2[2,col])\n",
        "print('-'*10)\n",
        "\n",
        "print(a2[row,1:])\n",
        "print('-'*10)\n",
        "\n",
        "print(a2[1:, col])"
      ],
      "metadata": {
        "colab": {
          "base_uri": "https://localhost:8080/"
        },
        "id": "dXlXKZ8T0XgB",
        "outputId": "24927624-e4c2-4ee7-bb1c-19acae52df11"
      },
      "execution_count": 41,
      "outputs": [
        {
          "output_type": "stream",
          "name": "stdout",
          "text": [
            "[[1 2 3]\n",
            " [4 5 6]\n",
            " [7 8 9]]\n",
            "----------\n",
            "[2 9]\n",
            "----------\n",
            "[[1 2 3]\n",
            " [7 8 9]]\n",
            "----------\n",
            "[[2 3]\n",
            " [5 6]\n",
            " [8 9]]\n",
            "----------\n",
            "[8 9]\n",
            "----------\n",
            "[[2 3]\n",
            " [8 9]]\n",
            "----------\n",
            "[[5 6]\n",
            " [8 9]]\n"
          ]
        }
      ]
    },
    {
      "cell_type": "markdown",
      "source": [
        "# 배열 값 삽입/수정/삭제/복사"
      ],
      "metadata": {
        "id": "7Bc45o0i1stS"
      }
    },
    {
      "cell_type": "markdown",
      "source": [
        "## 배열 값 삽입\n",
        "- `insert()` : 배열의 특정 위치에 값 삽입\n",
        "- axis를 지정하지 않으면 1차원 배열로 변함\n",
        "- 추가할 방향을 axis로 지정\n",
        "- 원본 배열 변경없이 새로운 배열 반환"
      ],
      "metadata": {
        "id": "3qRZJLU41vsj"
      }
    },
    {
      "cell_type": "code",
      "source": [
        "print(a1)\n",
        "b1 = np.insert(a1, 0, 10)\n",
        "print(b1)\n",
        "c1 = np.insert(a1,2,10)\n",
        "print(c1)"
      ],
      "metadata": {
        "colab": {
          "base_uri": "https://localhost:8080/"
        },
        "id": "IZcFBpZm19i0",
        "outputId": "7b3dbfe8-5567-42b2-e7a5-bacfa070a27d"
      },
      "execution_count": 42,
      "outputs": [
        {
          "output_type": "stream",
          "name": "stdout",
          "text": [
            "[4 5 6 4 5]\n",
            "[10  4  5  6  4  5]\n",
            "[ 4  5 10  6  4  5]\n"
          ]
        }
      ]
    },
    {
      "cell_type": "code",
      "source": [
        "print(a2)\n",
        "print('-'*20)\n",
        "\n",
        "b2 = np.insert(a2,1,10,axis=0)\n",
        "print(b2)\n",
        "print('-'*20)\n",
        "\n",
        "c2 = np.insert(a2,1,10,axis=1)\n",
        "print(c2)"
      ],
      "metadata": {
        "colab": {
          "base_uri": "https://localhost:8080/"
        },
        "id": "c5PiA0f-2ioo",
        "outputId": "ee0bd140-807e-403e-b432-f38605eef8bf"
      },
      "execution_count": 43,
      "outputs": [
        {
          "output_type": "stream",
          "name": "stdout",
          "text": [
            "[[1 2 3]\n",
            " [4 5 6]\n",
            " [7 8 9]]\n",
            "--------------------\n",
            "[[ 1  2  3]\n",
            " [10 10 10]\n",
            " [ 4  5  6]\n",
            " [ 7  8  9]]\n",
            "--------------------\n",
            "[[ 1 10  2  3]\n",
            " [ 4 10  5  6]\n",
            " [ 7 10  8  9]]\n"
          ]
        }
      ]
    },
    {
      "cell_type": "markdown",
      "source": [
        "## 배열 값 수정\n",
        "- 배열의 인덱싱으로 접근하여 값 수정"
      ],
      "metadata": {
        "id": "Oej1UN2r3Ktz"
      }
    },
    {
      "cell_type": "code",
      "source": [
        "print(a1)\n",
        "\n",
        "a1[0] = 1\n",
        "a1[1] = 2\n",
        "a1[2] = 3\n",
        "a1[3] = 4\n",
        "a1[4] = 5\n",
        "print(a1)\n",
        "\n",
        "a1[:1] = 9\n",
        "print(a1)\n",
        "\n",
        "i = np.array([1,3,4])\n",
        "a1[i] = 0\n",
        "print(a1)\n",
        "\n",
        "a1[i] += 4\n",
        "print(a1)"
      ],
      "metadata": {
        "colab": {
          "base_uri": "https://localhost:8080/"
        },
        "id": "Zif_vNbh3Olc",
        "outputId": "1eb6797a-3314-4a30-c9e5-1e055f50b657"
      },
      "execution_count": 44,
      "outputs": [
        {
          "output_type": "stream",
          "name": "stdout",
          "text": [
            "[4 5 6 4 5]\n",
            "[1 2 3 4 5]\n",
            "[9 2 3 4 5]\n",
            "[9 0 3 0 0]\n",
            "[9 4 3 4 4]\n"
          ]
        }
      ]
    },
    {
      "cell_type": "code",
      "source": [
        "print(a2)\n",
        "print('-'*20)\n",
        "\n",
        "a2[0,0] = 1\n",
        "a2[1,1] = 2\n",
        "a2[2,2] = 3\n",
        "print(a2)\n",
        "print('-'*20)\n",
        "\n",
        "a2[0] = 1\n",
        "print(a2)\n",
        "print('-'*20)\n",
        "\n",
        "a2[1:,2] = 9\n",
        "print(a2)\n",
        "print('-'*20)\n",
        "\n",
        "row = np.array([0,1])\n",
        "col = np.array([1,2])\n",
        "a2[row,col] = 0\n",
        "print(a2)"
      ],
      "metadata": {
        "colab": {
          "base_uri": "https://localhost:8080/"
        },
        "id": "z4xZchx_30l8",
        "outputId": "1445d27f-e0da-4d57-94ce-8f7c95f54ad2"
      },
      "execution_count": 47,
      "outputs": [
        {
          "output_type": "stream",
          "name": "stdout",
          "text": [
            "[[1 1 1]\n",
            " [4 2 9]\n",
            " [7 8 9]]\n",
            "--------------------\n",
            "[[1 1 1]\n",
            " [4 2 9]\n",
            " [7 8 3]]\n",
            "--------------------\n",
            "[[1 1 1]\n",
            " [4 2 9]\n",
            " [7 8 3]]\n",
            "--------------------\n",
            "[[1 1 1]\n",
            " [4 2 9]\n",
            " [7 8 9]]\n",
            "--------------------\n",
            "[[1 0 1]\n",
            " [4 2 0]\n",
            " [7 8 9]]\n"
          ]
        }
      ]
    },
    {
      "cell_type": "markdown",
      "source": [
        "# 배열 값 삭제\n",
        "- `delect()` : 배열의 특정 위치에 값 삭제\n",
        "- axis를 지정하지 않으면 1차원 배열로 변환\n",
        "- 삭제할 방향을 axis로 지정\n",
        "- 원본 배열 변경없이 새로운 배열 반환"
      ],
      "metadata": {
        "id": "xl-bTmSv4yyu"
      }
    },
    {
      "cell_type": "code",
      "source": [],
      "metadata": {
        "id": "txD1E_w34xrH"
      },
      "execution_count": null,
      "outputs": []
    }
  ]
}